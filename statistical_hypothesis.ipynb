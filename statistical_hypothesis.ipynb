{
 "cells": [
  {
   "cell_type": "code",
   "execution_count": 1,
   "id": "b88077db",
   "metadata": {},
   "outputs": [],
   "source": [
    "import pandas as pd\n",
    "import matplotlib\n",
    "import matplotlib.pyplot as plt\n",
    "import numpy as np\n",
    "from scipy import stats"
   ]
  },
  {
   "cell_type": "markdown",
   "id": "f3016468",
   "metadata": {},
   "source": [
    "# Датасет"
   ]
  },
  {
   "cell_type": "code",
   "execution_count": 2,
   "id": "e4bfc7ab",
   "metadata": {},
   "outputs": [],
   "source": [
    "df = pd.read_csv('water_potability_.csv')"
   ]
  },
  {
   "cell_type": "code",
   "execution_count": 3,
   "id": "eee7e785",
   "metadata": {},
   "outputs": [
    {
     "data": {
      "text/html": [
       "<div>\n",
       "<style scoped>\n",
       "    .dataframe tbody tr th:only-of-type {\n",
       "        vertical-align: middle;\n",
       "    }\n",
       "\n",
       "    .dataframe tbody tr th {\n",
       "        vertical-align: top;\n",
       "    }\n",
       "\n",
       "    .dataframe thead th {\n",
       "        text-align: right;\n",
       "    }\n",
       "</style>\n",
       "<table border=\"1\" class=\"dataframe\">\n",
       "  <thead>\n",
       "    <tr style=\"text-align: right;\">\n",
       "      <th></th>\n",
       "      <th>ph</th>\n",
       "      <th>Hardness</th>\n",
       "      <th>Solids</th>\n",
       "      <th>Chloramines</th>\n",
       "      <th>Sulfate</th>\n",
       "      <th>Conductivity</th>\n",
       "      <th>Organic_carbon</th>\n",
       "      <th>Trihalomethanes</th>\n",
       "      <th>Turbidity</th>\n",
       "      <th>Potability</th>\n",
       "    </tr>\n",
       "  </thead>\n",
       "  <tbody>\n",
       "    <tr>\n",
       "      <th>0</th>\n",
       "      <td>8.316766</td>\n",
       "      <td>214.373394</td>\n",
       "      <td>22018.417441</td>\n",
       "      <td>8.059332</td>\n",
       "      <td>356.886136</td>\n",
       "      <td>363.266516</td>\n",
       "      <td>18.436524</td>\n",
       "      <td>100.341674</td>\n",
       "      <td>4.628771</td>\n",
       "      <td>0</td>\n",
       "    </tr>\n",
       "    <tr>\n",
       "      <th>1</th>\n",
       "      <td>9.092223</td>\n",
       "      <td>181.101509</td>\n",
       "      <td>17978.986339</td>\n",
       "      <td>6.546600</td>\n",
       "      <td>310.135738</td>\n",
       "      <td>398.410813</td>\n",
       "      <td>11.558279</td>\n",
       "      <td>31.997993</td>\n",
       "      <td>4.075075</td>\n",
       "      <td>0</td>\n",
       "    </tr>\n",
       "    <tr>\n",
       "      <th>2</th>\n",
       "      <td>5.584087</td>\n",
       "      <td>188.313324</td>\n",
       "      <td>28748.687739</td>\n",
       "      <td>7.544869</td>\n",
       "      <td>326.678363</td>\n",
       "      <td>280.467916</td>\n",
       "      <td>8.399735</td>\n",
       "      <td>54.917862</td>\n",
       "      <td>2.559708</td>\n",
       "      <td>0</td>\n",
       "    </tr>\n",
       "    <tr>\n",
       "      <th>3</th>\n",
       "      <td>10.223862</td>\n",
       "      <td>248.071735</td>\n",
       "      <td>28749.716544</td>\n",
       "      <td>7.513408</td>\n",
       "      <td>393.663396</td>\n",
       "      <td>283.651634</td>\n",
       "      <td>13.789695</td>\n",
       "      <td>84.603556</td>\n",
       "      <td>2.672989</td>\n",
       "      <td>0</td>\n",
       "    </tr>\n",
       "    <tr>\n",
       "      <th>4</th>\n",
       "      <td>8.635849</td>\n",
       "      <td>203.361523</td>\n",
       "      <td>13672.091764</td>\n",
       "      <td>4.563009</td>\n",
       "      <td>303.309771</td>\n",
       "      <td>474.607645</td>\n",
       "      <td>12.363817</td>\n",
       "      <td>62.798309</td>\n",
       "      <td>4.401425</td>\n",
       "      <td>0</td>\n",
       "    </tr>\n",
       "    <tr>\n",
       "      <th>...</th>\n",
       "      <td>...</td>\n",
       "      <td>...</td>\n",
       "      <td>...</td>\n",
       "      <td>...</td>\n",
       "      <td>...</td>\n",
       "      <td>...</td>\n",
       "      <td>...</td>\n",
       "      <td>...</td>\n",
       "      <td>...</td>\n",
       "      <td>...</td>\n",
       "    </tr>\n",
       "    <tr>\n",
       "      <th>2006</th>\n",
       "      <td>8.989900</td>\n",
       "      <td>215.047358</td>\n",
       "      <td>15921.412018</td>\n",
       "      <td>6.297312</td>\n",
       "      <td>312.931022</td>\n",
       "      <td>390.410231</td>\n",
       "      <td>9.899115</td>\n",
       "      <td>55.069304</td>\n",
       "      <td>4.613843</td>\n",
       "      <td>1</td>\n",
       "    </tr>\n",
       "    <tr>\n",
       "      <th>2007</th>\n",
       "      <td>6.702547</td>\n",
       "      <td>207.321086</td>\n",
       "      <td>17246.920347</td>\n",
       "      <td>7.708117</td>\n",
       "      <td>304.510230</td>\n",
       "      <td>329.266002</td>\n",
       "      <td>16.217303</td>\n",
       "      <td>28.878601</td>\n",
       "      <td>3.442983</td>\n",
       "      <td>1</td>\n",
       "    </tr>\n",
       "    <tr>\n",
       "      <th>2008</th>\n",
       "      <td>11.491011</td>\n",
       "      <td>94.812545</td>\n",
       "      <td>37188.826022</td>\n",
       "      <td>9.263166</td>\n",
       "      <td>258.930600</td>\n",
       "      <td>439.893618</td>\n",
       "      <td>16.172755</td>\n",
       "      <td>41.558501</td>\n",
       "      <td>4.369264</td>\n",
       "      <td>1</td>\n",
       "    </tr>\n",
       "    <tr>\n",
       "      <th>2009</th>\n",
       "      <td>6.069616</td>\n",
       "      <td>186.659040</td>\n",
       "      <td>26138.780191</td>\n",
       "      <td>7.747547</td>\n",
       "      <td>345.700257</td>\n",
       "      <td>415.886955</td>\n",
       "      <td>12.067620</td>\n",
       "      <td>60.419921</td>\n",
       "      <td>3.669712</td>\n",
       "      <td>1</td>\n",
       "    </tr>\n",
       "    <tr>\n",
       "      <th>2010</th>\n",
       "      <td>4.668102</td>\n",
       "      <td>193.681735</td>\n",
       "      <td>47580.991603</td>\n",
       "      <td>7.166639</td>\n",
       "      <td>359.948574</td>\n",
       "      <td>526.424171</td>\n",
       "      <td>13.894419</td>\n",
       "      <td>66.687695</td>\n",
       "      <td>4.435821</td>\n",
       "      <td>1</td>\n",
       "    </tr>\n",
       "  </tbody>\n",
       "</table>\n",
       "<p>2011 rows × 10 columns</p>\n",
       "</div>"
      ],
      "text/plain": [
       "             ph    Hardness        Solids  Chloramines     Sulfate  \\\n",
       "0      8.316766  214.373394  22018.417441     8.059332  356.886136   \n",
       "1      9.092223  181.101509  17978.986339     6.546600  310.135738   \n",
       "2      5.584087  188.313324  28748.687739     7.544869  326.678363   \n",
       "3     10.223862  248.071735  28749.716544     7.513408  393.663396   \n",
       "4      8.635849  203.361523  13672.091764     4.563009  303.309771   \n",
       "...         ...         ...           ...          ...         ...   \n",
       "2006   8.989900  215.047358  15921.412018     6.297312  312.931022   \n",
       "2007   6.702547  207.321086  17246.920347     7.708117  304.510230   \n",
       "2008  11.491011   94.812545  37188.826022     9.263166  258.930600   \n",
       "2009   6.069616  186.659040  26138.780191     7.747547  345.700257   \n",
       "2010   4.668102  193.681735  47580.991603     7.166639  359.948574   \n",
       "\n",
       "      Conductivity  Organic_carbon  Trihalomethanes  Turbidity  Potability  \n",
       "0       363.266516       18.436524       100.341674   4.628771           0  \n",
       "1       398.410813       11.558279        31.997993   4.075075           0  \n",
       "2       280.467916        8.399735        54.917862   2.559708           0  \n",
       "3       283.651634       13.789695        84.603556   2.672989           0  \n",
       "4       474.607645       12.363817        62.798309   4.401425           0  \n",
       "...            ...             ...              ...        ...         ...  \n",
       "2006    390.410231        9.899115        55.069304   4.613843           1  \n",
       "2007    329.266002       16.217303        28.878601   3.442983           1  \n",
       "2008    439.893618       16.172755        41.558501   4.369264           1  \n",
       "2009    415.886955       12.067620        60.419921   3.669712           1  \n",
       "2010    526.424171       13.894419        66.687695   4.435821           1  \n",
       "\n",
       "[2011 rows x 10 columns]"
      ]
     },
     "execution_count": 3,
     "metadata": {},
     "output_type": "execute_result"
    }
   ],
   "source": [
    "df"
   ]
  },
  {
   "cell_type": "markdown",
   "id": "50520b7d",
   "metadata": {},
   "source": [
    "# Гипотеза о равенстве средних для ph"
   ]
  },
  {
   "cell_type": "code",
   "execution_count": 4,
   "id": "3b2750cc",
   "metadata": {},
   "outputs": [],
   "source": [
    "x = df[df['Potability'] == 1]['ph']\n",
    "y = df[df['Potability'] == 0]['ph']\n",
    "x.name, y.name = 'potable', 'not potable'"
   ]
  },
  {
   "cell_type": "code",
   "execution_count": 5,
   "id": "d6487186",
   "metadata": {},
   "outputs": [
    {
     "data": {
      "text/plain": [
       "<matplotlib.legend.Legend at 0x2437d687760>"
      ]
     },
     "execution_count": 5,
     "metadata": {},
     "output_type": "execute_result"
    },
    {
     "data": {
      "image/png": "[encoded data removed]",
      "text/plain": [
       "<Figure size 432x288 with 1 Axes>"
      ]
     },
     "metadata": {
      "needs_background": "light"
     },
     "output_type": "display_data"
    }
   ],
   "source": [
    "#ph при potability == 1\n",
    "plt.hist(x)\n",
    "plt.legend(x.name)"
   ]
  },
  {
   "cell_type": "code",
   "execution_count": 6,
   "id": "f5389f2d",
   "metadata": {},
   "outputs": [
    {
     "data": {
      "text/plain": [
       "<matplotlib.legend.Legend at 0x2437d7b0910>"
      ]
     },
     "execution_count": 6,
     "metadata": {},
     "output_type": "execute_result"
    },
    {
     "data": {
      "image/png": "[encoded data removed]",
      "text/plain": [
       "<Figure size 432x288 with 1 Axes>"
      ]
     },
     "metadata": {
      "needs_background": "light"
     },
     "output_type": "display_data"
    }
   ],
   "source": [
    "#ph при potability == 0\n",
    "plt.hist(y)\n",
    "plt.legend(y.name)"
   ]
  },
  {
   "cell_type": "markdown",
   "id": "599598e2",
   "metadata": {},
   "source": [
    "Проверяем на нормальность"
   ]
  },
  {
   "cell_type": "code",
   "execution_count": 7,
   "id": "f07c2606",
   "metadata": {},
   "outputs": [
    {
     "name": "stdout",
     "output_type": "stream",
     "text": [
      "p-value для первой выборки:  4.416465799295111e-06\n",
      "p-value для второй выборки:  0.20297732949256897\n"
     ]
    }
   ],
   "source": [
    "res_x = stats.shapiro(x)\n",
    "res_y = stats.shapiro(y)\n",
    "print('p-value для первой выборки: ', res_x[1])\n",
    "print('p-value для второй выборки: ', res_y[1])"
   ]
  },
  {
   "cell_type": "markdown",
   "id": "6ca13aaa",
   "metadata": {},
   "source": [
    "При уровне значимости 0.05 получаем, что выборка с potability==1 не нормального распределения."
   ]
  },
  {
   "cell_type": "code",
   "execution_count": 8,
   "id": "145908ca",
   "metadata": {},
   "outputs": [
    {
     "data": {
      "text/plain": [
       "<matplotlib.legend.Legend at 0x2437d82ebb0>"
      ]
     },
     "execution_count": 8,
     "metadata": {},
     "output_type": "execute_result"
    },
    {
     "data": {
      "image/png": "[encoded data removed]",
      "text/plain": [
       "<Figure size 432x288 with 1 Axes>"
      ]
     },
     "metadata": {
      "needs_background": "light"
     },
     "output_type": "display_data"
    }
   ],
   "source": [
    "#ph при potability == 1\n",
    "plt.hist(x, bins=100)\n",
    "plt.legend(x.name)"
   ]
  },
  {
   "cell_type": "markdown",
   "id": "ba19a748",
   "metadata": {},
   "source": [
    "Критерий Стьдента применить не можем, применим критерий Манна-Уитни"
   ]
  },
  {
   "cell_type": "code",
   "execution_count": 9,
   "id": "db41f37d",
   "metadata": {},
   "outputs": [
    {
     "name": "stdout",
     "output_type": "stream",
     "text": [
      "p-value:  0.5296719786634061\n"
     ]
    }
   ],
   "source": [
    "res = stats.mannwhitneyu(x,y)\n",
    "print('p-value: ', res[1])"
   ]
  },
  {
   "cell_type": "markdown",
   "id": "84174177",
   "metadata": {},
   "source": [
    "Гипотезу о равенстве средних принимаем "
   ]
  },
  {
   "cell_type": "markdown",
   "id": "0c2e4d30",
   "metadata": {},
   "source": [
    "# Гипотеза о равенстве средних для Turbidity"
   ]
  },
  {
   "cell_type": "code",
   "execution_count": 10,
   "id": "d40f375a",
   "metadata": {},
   "outputs": [],
   "source": [
    "x = df[df['Potability'] == 1]['Turbidity']\n",
    "y = df[df['Potability'] == 0]['Turbidity']\n",
    "x.name, y.name = 'potable', 'not potable'"
   ]
  },
  {
   "cell_type": "code",
   "execution_count": 11,
   "id": "26891637",
   "metadata": {},
   "outputs": [
    {
     "data": {
      "text/plain": [
       "<matplotlib.legend.Legend at 0x2437d9ff790>"
      ]
     },
     "execution_count": 11,
     "metadata": {},
     "output_type": "execute_result"
    },
    {
     "data": {
      "image/png": "[encoded data removed]",
      "text/plain": [
       "<Figure size 432x288 with 1 Axes>"
      ]
     },
     "metadata": {
      "needs_background": "light"
     },
     "output_type": "display_data"
    }
   ],
   "source": [
    "#Распределение Turbidity для potability == 1\n",
    "plt.hist(x)\n",
    "plt.legend(x.name)"
   ]
  },
  {
   "cell_type": "code",
   "execution_count": 12,
   "id": "5852a0d0",
   "metadata": {},
   "outputs": [
    {
     "data": {
      "text/plain": [
       "<matplotlib.legend.Legend at 0x2437d9ff940>"
      ]
     },
     "execution_count": 12,
     "metadata": {},
     "output_type": "execute_result"
    },
    {
     "data": {
      "image/png": "[encoded data removed]",
      "text/plain": [
       "<Figure size 432x288 with 1 Axes>"
      ]
     },
     "metadata": {
      "needs_background": "light"
     },
     "output_type": "display_data"
    }
   ],
   "source": [
    "#Распределение Turbidity для potability == 0\n",
    "plt.hist(y)\n",
    "plt.legend(y.name)"
   ]
  },
  {
   "cell_type": "code",
   "execution_count": 13,
   "id": "397e1df3",
   "metadata": {},
   "outputs": [
    {
     "name": "stdout",
     "output_type": "stream",
     "text": [
      "p-value для первой выборки:  0.8450984954833984\n",
      "p-value для второй выборки:  0.8997399806976318\n"
     ]
    }
   ],
   "source": [
    "#нормальность\n",
    "res_x = stats.shapiro(x)\n",
    "res_y = stats.shapiro(y)\n",
    "print('p-value для первой выборки: ', res_x[1])\n",
    "print('p-value для второй выборки: ', res_y[1])"
   ]
  },
  {
   "cell_type": "markdown",
   "id": "0ef54701",
   "metadata": {},
   "source": [
    "При уровне значимости 0.05 получаем, что выборки имеют нормальное распределение"
   ]
  },
  {
   "cell_type": "code",
   "execution_count": 14,
   "id": "f56035de",
   "metadata": {},
   "outputs": [
    {
     "name": "stdout",
     "output_type": "stream",
     "text": [
      "p-value:  0.8900761703462692\n"
     ]
    }
   ],
   "source": [
    "# Критерий Флигнера однородности дисперсий\n",
    "res = stats.fligner(x,y)\n",
    "print('p-value: ', res[1])"
   ]
  },
  {
   "cell_type": "markdown",
   "id": "2e57998d",
   "metadata": {},
   "source": [
    "Дисперсии равны"
   ]
  },
  {
   "cell_type": "code",
   "execution_count": 15,
   "id": "205d7173",
   "metadata": {},
   "outputs": [
    {
     "name": "stdout",
     "output_type": "stream",
     "text": [
      "p-value:  0.30930963202416595\n"
     ]
    }
   ],
   "source": [
    "# Критерий Стьюдента для проверки равенства средних при одинаковой дисперсии\n",
    "res = stats.ttest_ind(x,y, equal_var=True)\n",
    "print('p-value: ', res[1])"
   ]
  },
  {
   "cell_type": "markdown",
   "id": "0acaa106",
   "metadata": {},
   "source": [
    "Средние равны"
   ]
  },
  {
   "cell_type": "markdown",
   "id": "3ff00244",
   "metadata": {},
   "source": [
    "# Коэффициент корреляции Спирмена"
   ]
  },
  {
   "cell_type": "code",
   "execution_count": 30,
   "id": "d418486d",
   "metadata": {},
   "outputs": [
    {
     "name": "stdout",
     "output_type": "stream",
     "text": [
      "correlation:  0.014019709471769198\n",
      "p-value:  0.5297797418282144\n"
     ]
    }
   ],
   "source": [
    "sp = stats.spearmanr(df['ph'], df['Potability'])\n",
    "print('correlation: ', sp[0])\n",
    "print('p-value: ', sp[1])"
   ]
  },
  {
   "cell_type": "markdown",
   "id": "31b99b2e",
   "metadata": {},
   "source": [
    "Наличие положительной корреляции между значением ph и potability, но из значения p-value делаем вывод, что корреляция не является статистически значимой"
   ]
  },
  {
   "cell_type": "code",
   "execution_count": 22,
   "id": "9c929c77",
   "metadata": {},
   "outputs": [
    {
     "name": "stdout",
     "output_type": "stream",
     "text": [
      "correlation:  0.022441313504941805\n",
      "p-value:  0.31448141304021615\n"
     ]
    }
   ],
   "source": [
    "sp = stats.spearmanr(df['Turbidity'], df['Potability'])\n",
    "print('correlation: ', sp[0])\n",
    "print('p-value: ', sp[1])"
   ]
  },
  {
   "cell_type": "markdown",
   "id": "778dddb1",
   "metadata": {},
   "source": [
    "Наличие положительной корреляции между значением Turbidity и Potability, но из значения p-value делаем вывод, что корреляция не является статистически значимой"
   ]
  },
  {
   "cell_type": "markdown",
   "id": "17ad3615",
   "metadata": {},
   "source": [
    "# Коэффициент корреляции Пирсона"
   ]
  },
  {
   "cell_type": "code",
   "execution_count": 32,
   "id": "ffaaa435",
   "metadata": {},
   "outputs": [
    {
     "name": "stdout",
     "output_type": "stream",
     "text": [
      "correlation:  0.014530037037528127\n",
      "p-value:  0.5149065707818627\n"
     ]
    }
   ],
   "source": [
    "pears = stats.pearsonr(df['ph'], df['Potability'])\n",
    "print('correlation: ', pears[0])\n",
    "print('p-value: ', pears[1])"
   ]
  },
  {
   "cell_type": "markdown",
   "id": "afe47dd4",
   "metadata": {},
   "source": [
    "Тот же вывод"
   ]
  },
  {
   "cell_type": "code",
   "execution_count": 33,
   "id": "a5905ebd",
   "metadata": {},
   "outputs": [
    {
     "name": "stdout",
     "output_type": "stream",
     "text": [
      "correlation:  0.02268239641344312\n",
      "p-value:  0.3093096320245413\n"
     ]
    }
   ],
   "source": [
    "pears = stats.pearsonr(df['Turbidity'], df['Potability'])\n",
    "print('correlation: ', pears[0])\n",
    "print('p-value: ', pears[1])"
   ]
  },
  {
   "cell_type": "markdown",
   "id": "c9ee2198",
   "metadata": {},
   "source": [
    "Аналогично"
   ]
  },
  {
   "cell_type": "code",
   "execution_count": null,
   "id": "a935ea8b",
   "metadata": {},
   "outputs": [],
   "source": []
  }
 ],
 "metadata": {
  "kernelspec": {
   "display_name": "Python 3 (ipykernel)",
   "language": "python",
   "name": "python3"
  },
  "language_info": {
   "codemirror_mode": {
    "name": "ipython",
    "version": 3
   },
   "file_extension": ".py",
   "mimetype": "text/x-python",
   "name": "python",
   "nbconvert_exporter": "python",
   "pygments_lexer": "ipython3",
   "version": "3.9.12"
  }
 },
 "nbformat": 4,
 "nbformat_minor": 5
}
